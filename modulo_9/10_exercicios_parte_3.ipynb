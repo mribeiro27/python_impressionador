{
 "cells": [
  {
   "cell_type": "markdown",
   "metadata": {},
   "source": [
    "# Exercícios\n",
    "\n",
    "## 1. Calculando % de uma lista\n",
    "\n",
    "Faremos algo parecido com \"filtrar\" uma lista. Mais pra frente no curso aprenderemos outras formas de fazer isso, mas com o nosso conhecimentoa atual já conseguimos resolver o desafio.\n",
    "\n",
    "Digamos que a gente tenha uma lista de vendedores e ao invés de saber todos os vendedores que bateram a meta, eu quero conseguir calcular o % de vendedores que bateram a meta. Ou seja, se temos 10 vendedores e 3 bateram a meta, temos 30% dos vendedores que bateram a meta."
   ]
  },
  {
   "cell_type": "code",
   "execution_count": 1,
   "metadata": {},
   "outputs": [],
   "source": [
    "meta = 10000\n",
    "vendas = [\n",
    "    ['João', 15000],\n",
    "    ['Julia', 27000],\n",
    "    ['Marcus', 9900],\n",
    "    ['Maria', 3750],\n",
    "    ['Ana', 10300],\n",
    "    ['Alon', 7870],\n",
    "]\n",
    "#seu código aqui\n",
    "\n",
    "# vendedores_acima_meta = [] -> primeira forma\n",
    "# vendedores_acima_meta = 0 -> segunda forma\n",
    "\n",
    "'''for venda in vendas:\n",
    "    if venda[1] >= meta:\n",
    "        # Adiciona o nome do vendedor à lista de vendedores acima da meta\n",
    "        vendedores_acima_meta.append(venda)\n",
    "print(vendedores_acima_meta)\n",
    "# Dividir o tamanho da lista de vendedores que bateram a meta pela lista de vendas nos dá a porcentagem de vendedores que bateram a meta\n",
    "print(\"{:.1%} dos vendedores bateram a meta!\".format(len(vendedores_acima_meta) / len(vendas)))'''\n",
    "\n",
    "# Cálculo diretamente na lista\n",
    "\n",
    "'''for venda in vendas:\n",
    "    if venda[1] >= meta:\n",
    "        vendedores_acima_meta += 1\n",
    "print(\"{:.1%} dos vendedores bateram a meta!\".format(vendedores_acima_meta / len(vendas)))'''"
   ]
  },
  {
   "cell_type": "markdown",
   "metadata": {},
   "source": [
    "- Vamos resolver de 2 formas:\n",
    "    1. Criando uma lista auxiliar apenas com os vendedores que bateram a meta\n",
    "    2. Fazendo o cálculo diretamente na lista que já temos"
   ]
  },
  {
   "cell_type": "markdown",
   "metadata": {},
   "source": [
    "## Para treinar uma estrutura parecida, crie um código para responder: quem foi o vendedor que mais vendeu?"
   ]
  },
  {
   "cell_type": "code",
   "execution_count": null,
   "metadata": {},
   "outputs": [],
   "source": [
    "#seu código aqui\n",
    "\n",
    "# Vendedor que mais vendeu\n",
    "\n",
    "melhor_vendedor = ''\n",
    "maior_venda = 0\n",
    "\n",
    "for venda in vendas:\n",
    "    if venda[1] > maior_venda:\n",
    "        maior_venda = venda[1]\n",
    "        melhor_vendedor = venda[0]\n",
    "print(f\"O melhor vendedor foi {melhor_vendedor}, com {maior_venda} vendas!\")"
   ]
  }
 ],
 "metadata": {
  "kernelspec": {
   "display_name": "Python 3",
   "language": "python",
   "name": "python3"
  },
  "language_info": {
   "codemirror_mode": {
    "name": "ipython",
    "version": 3
   },
   "file_extension": ".py",
   "mimetype": "text/x-python",
   "name": "python",
   "nbconvert_exporter": "python",
   "pygments_lexer": "ipython3",
   "version": "3.8.3"
  }
 },
 "nbformat": 4,
 "nbformat_minor": 4
}
