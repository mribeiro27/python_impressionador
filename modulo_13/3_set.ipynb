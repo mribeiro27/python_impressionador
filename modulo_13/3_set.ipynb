{
 "cells": [
  {
   "cell_type": "markdown",
   "metadata": {},
   "source": [
    "# Set\n",
    "\n",
    "- Lista de informações sem ordem definida, não conseguimos analisar só o primeiro, segundo ou terceiro item, por exemplo\n",
    "\n",
    "### Estrutura:\n",
    "\n",
    "meu_set = {valor, valor, valor, valor,...}\n",
    "\n",
    "### Observações:\n",
    "\n",
    "- Não pode ter valores duplicados. Se tentarmos botar valores duplicados, ele irá ignorar um\n",
    "- Não tem ordem fixa"
   ]
  },
  {
   "cell_type": "code",
   "execution_count": null,
   "metadata": {},
   "outputs": [],
   "source": [
    "# Parece com um dicionário, por ser delimitado por {}, mas há somente valores, os quais são impressos em ordem aleatória\n",
    "set_produtos = {'arroz', 'feijao', 'macarrao', 'atum', 'azeite'}\n",
    "\n",
    "print(set_produtos)"
   ]
  },
  {
   "cell_type": "markdown",
   "metadata": {},
   "source": [
    "- Aplicação bem útil:\n",
    "\n",
    "    1. Quantos clientes tivemos na loja?"
   ]
  },
  {
   "cell_type": "code",
   "execution_count": null,
   "metadata": {},
   "outputs": [],
   "source": [
    "cpf_clientes = ['762.196.080-97', '263.027.380-67', '827.363.930-40', '925.413.640-91', '870.565.160-33', '892.080.930-50', '462.126.030-81', '393.462.330-10', '393.462.330-10', '393.462.330-10', '988.305.810-11', '596.125.830-05', '596.125.830-05', '990.236.770-48']\n",
    "\n",
    "# Normalmente, para saber um tamanho de uma lista (quantidade de clientes), usaríamos o len desta forma\n",
    "print(len(cpf_clientes))\n",
    "\n",
    "# Só que, em uma lista, os valores podem se repetir. Para verificarmos se há repetições, iremos transformar a lista em um set\n",
    "set_cpf_clientes = set(cpf_clientes)\n",
    "print(len(set_cpf_clientes))\n",
    "\n",
    "# Há 11 clientes na loja. Podemos transformar esse set, com os valores aparecendo apenas uma vez, em uma lista:\n",
    "lista_cpf_clientes = list(set_cpf_clientes)\n",
    "print(\"Há {} clientes na loja.\".format(len(lista_cpf_clientes)))"
   ]
  }
 ],
 "metadata": {
  "kernelspec": {
   "display_name": "Python 3",
   "language": "python",
   "name": "python3"
  },
  "language_info": {
   "codemirror_mode": {
    "name": "ipython",
    "version": 3
   },
   "file_extension": ".py",
   "mimetype": "text/x-python",
   "name": "python",
   "nbconvert_exporter": "python",
   "pygments_lexer": "ipython3",
   "version": "3.8.3"
  }
 },
 "nbformat": 4,
 "nbformat_minor": 4
}
