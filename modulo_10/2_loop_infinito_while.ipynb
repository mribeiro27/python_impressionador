{
 "cells": [
  {
   "cell_type": "markdown",
   "metadata": {},
   "source": [
    "# Cuidado com o while -> Loop Infinito\n",
    "\n",
    "- Sempre que for usar o comando while, lembre-se de ter certeza que o programa vai terminar em algum momento\n",
    "- Cada vez que o while roda, ele está num loop. Se a condição do while nunca se tornar falsa, ele irá rodar infinitamente (travamento do note, uso desnecessário de memória)\n",
    "\n",
    "### Exemplo\n",
    "\n",
    "Digamos que temos uma lista de vendedores e as quantidades vendidas e queremos identificar todos os vendedores que bateram a meta de 50 vendas."
   ]
  },
  {
   "cell_type": "code",
   "execution_count": null,
   "metadata": {},
   "outputs": [],
   "source": [
    "vendas = [941, 852, 783, 714, 697, 686, 685, 670, 631, 453, 386, 371, 294, 269, 259, 218, 208, 163, 125, 102, 87, 47, 7]\n",
    "vendedores = ['Maria', 'José', 'Antônio', 'João', 'Francisco', 'Ana', 'Luiz', 'Paulo', 'Carlos', 'Manoel', 'Pedro', 'Francisca', 'Marcos', 'Raimundo', 'Sebastião', 'Antônia', 'Marcelo', 'Jorge', 'Márcia', 'Geraldo', 'Adriana', 'Sandra', 'Luis']\n",
    "meta = 50\n",
    "\n",
    "# Printar todos os funcionários que bateram a meta:\n",
    "\n",
    "# O índice deverá começar como 0\n",
    "i = 0\n",
    "\n",
    "while vendas[i] > meta:\n",
    "    # PROBLEMA: Diferente do for, o índice não mudará. Se deixarmos apenas com essa linha de código no while, o nome e as vendas de Maria irão ser repetidos infinitamente \n",
    "    print(\"{} bateu a meta. Números de vendas: {}\".format(vendedores[i], vendas[i]))\n",
    "    # SOLUÇÃO: somar o valor da variável i com 1, de forma a percorrer todas as listas\n",
    "    i += 1\n"
   ]
  }
 ],
 "metadata": {
  "kernelspec": {
   "display_name": "Python 3",
   "language": "python",
   "name": "python3"
  },
  "language_info": {
   "codemirror_mode": {
    "name": "ipython",
    "version": 3
   },
   "file_extension": ".py",
   "mimetype": "text/x-python",
   "name": "python",
   "nbconvert_exporter": "python",
   "pygments_lexer": "ipython3",
   "version": "3.8.3"
  }
 },
 "nbformat": 4,
 "nbformat_minor": 4
}
