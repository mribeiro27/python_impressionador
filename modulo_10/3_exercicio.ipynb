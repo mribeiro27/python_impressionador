{
 "cells": [
  {
   "cell_type": "markdown",
   "metadata": {},
   "source": [
    "# Exercícios\n",
    "\n",
    "## 1. Input até o usuário parar\n",
    "\n",
    "Vamos criar um sistema de vendas. Nosso programa deve registrar os produtos e as quantidades (2 inputs) e adicionar em uma lista.\n",
    "\n",
    "O programa deve continuar rodando até o input ser vazio, ou seja, o usuário apertar enter sem digitar nenhum produto ou quantidade.\n",
    "\n",
    "Ao final do programa, ele deve printar todos os produtos e quantidades vendidas.\n",
    "\n",
    "Obs: Caso queira, para o print ficar mais visual, pode usar o join para cada item ser printado em uma linha.\n",
    "Sugestão para sua lista de produtos vendidos:"
   ]
  },
  {
   "cell_type": "raw",
   "metadata": {
    "vscode": {
     "languageId": "raw"
    }
   },
   "source": [
    "vendas = [\n",
    "    ['maçã', 5],\n",
    "    ['banana', 15],\n",
    "    ['azeite', 1],\n",
    "    ['vinho', 3],\n",
    "]"
   ]
  },
  {
   "cell_type": "code",
   "execution_count": 1,
   "metadata": {},
   "outputs": [],
   "source": [
    "vendas = []\n",
    "\n",
    "# No caso abaixo, apenas uma condição basta, pois se não há produtos, não há quantidades\n",
    "\n",
    "'''# A melhor forma para rodar o while, com uma comparação embaixo para limitar o loop\n",
    "while True:\n",
    "    produto = input(\"Digite o nome do produto. Se não houver produtos para registrar, aperte ENTER: \")\n",
    "    if not produto:\n",
    "        break\n",
    "    qtde = int(input(\"Digite a quantidade vendida do produto. Se não houver quantidades para registrar, aperte ENTER: \"))\n",
    "    # Para adicionar uma lista de 2 elementos na lista vendas:\n",
    "    vendas.append([produto, qtde])\n",
    "\n",
    "print(vendas)'''\n",
    "\n",
    "# Como no caso acima, apenas a constatação, no while, de que produtos está preenchido, basta\n",
    "\n",
    "produto = input(\"Digite o nome do produto. Se não houver produtos para registrar, aperte ENTER: \")\n",
    "qtde = int(input(\"Digite a quantidade vendida do produto. Se não houver quantidades para registrar, digite 0: \"))\n",
    "\n",
    "while produto:\n",
    "    # Para adicionar uma lista de 2 elementos na lista vendas:\n",
    "    vendas.append([produto, qtde])\n",
    "    produto = input(\"Digite o nome do produto. Se não houver produtos para registrar, aperte ENTER: \")\n",
    "    # Um problema com essa forma é que é necessário preencher a quantidade, dado que é um int, e o \"produto:\" vale apenas para strings. Deve-se botar 0\n",
    "    qtde = int(input(\"Digite a quantidade vendida do produto. Se não houver quantidades para registrar, digite 0: \"))\n",
    "\n",
    "print(vendas)"
   ]
  },
  {
   "cell_type": "markdown",
   "metadata": {},
   "source": [
    "### Obs: Podemos fazer o While de 2 maneiras:\n",
    "\n",
    "1. While com a condição que finalize o programa\n",
    "2. While rodando para sempre, mas com uma condição dentro do while que dê um break no código.\n",
    "\n",
    "Vamos mostrar as 2 opções"
   ]
  }
 ],
 "metadata": {
  "kernelspec": {
   "display_name": "Python 3",
   "language": "python",
   "name": "python3"
  },
  "language_info": {
   "codemirror_mode": {
    "name": "ipython",
    "version": 3
   },
   "file_extension": ".py",
   "mimetype": "text/x-python",
   "name": "python",
   "nbconvert_exporter": "python",
   "pygments_lexer": "ipython3",
   "version": "3.8.3"
  }
 },
 "nbformat": 4,
 "nbformat_minor": 4
}
