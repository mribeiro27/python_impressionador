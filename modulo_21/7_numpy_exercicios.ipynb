{
 "cells": [
  {
   "cell_type": "markdown",
   "metadata": {},
   "source": [
    "## Exercício\n",
    "\n",
    "Você é um analista de RH e tem os salários de todos os funcionários da sua empresa em um array NumPy. Seu trabalho é identificar quantos funcionários ganham acima da média. Use o seguinte array para sua análise: `salarios = np.array([3000, 2500, 3500, 4000, 2000, 4500, 3000, 3800, 4800])`."
   ]
  },
  {
   "cell_type": "code",
   "execution_count": null,
   "metadata": {
    "ExecuteTime": {
     "end_time": "2023-07-03T17:58:55.261401600Z",
     "start_time": "2023-07-03T17:58:55.249755Z"
    },
    "collapsed": false,
    "jupyter": {
     "outputs_hidden": false
    }
   },
   "outputs": [],
   "source": [
    "import numpy as np\n",
    "\n",
    "salarios = np.array([3000, 2500, 3500, 4000, 2000, 4500, 3000, 3800, 4800])\n",
    "\n",
    "media = np.mean(salarios)\n",
    "print(media)\n",
    "\n",
    "acima_media = np.where(salarios > media)\n",
    "print(salarios[acima_media])\n",
    "\n",
    "# O count_nonzero() conta os índices que são verdadeiros, de acordo com a comparção\n",
    "qtde_funcionarios = np.count_nonzero(salarios > media)\n",
    "print(f\"{qtde_funcionarios} funcionários ganham acima da média.\")\n",
    "\n",
    "# Para conseguir pegar o número de posições que compreendem o where, devemos fazer a comparação, pois aqui voltarão os valores true e false:\n",
    "\n",
    "#funcionarios = (salarios > media)\n",
    "# print(funcionarios)\n",
    "\n",
    "# qtde_funcionarios = np.sum(salarios > media)\n",
    "# print(qtde_funcionarios)"
   ]
  }
 ],
 "metadata": {
  "kernelspec": {
   "display_name": "Python 3 (ipykernel)",
   "language": "python",
   "name": "python3"
  },
  "language_info": {
   "codemirror_mode": {
    "name": "ipython",
    "version": 3
   },
   "file_extension": ".py",
   "mimetype": "text/x-python",
   "name": "python",
   "nbconvert_exporter": "python",
   "pygments_lexer": "ipython3",
   "version": "3.10.11"
  }
 },
 "nbformat": 4,
 "nbformat_minor": 4
}
