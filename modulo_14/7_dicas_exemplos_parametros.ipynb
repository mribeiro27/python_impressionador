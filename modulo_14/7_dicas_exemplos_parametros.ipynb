{
 "cells": [
  {
   "cell_type": "markdown",
   "metadata": {},
   "source": [
    "# Exemplos de parâmetros\n",
    "\n",
    "- Apertar shift + tab para mostrar quais são os parâmetros esperados\n",
    "\n",
    "- upper() -> não tem parâmetros \n",
    "- sort() -> apenas parâmetros keyword\n",
    "- extend(lista) -> 1 parâmetro obrigatório\n",
    "- nossa função eh_da_categoria(bebida, cod_categoria) -> 2 parâmetros de posição obrigatórios\n"
   ]
  },
  {
   "cell_type": "code",
   "execution_count": null,
   "metadata": {},
   "outputs": [],
   "source": [
    "def eh_da_categoria(bebida, cod_categoria):\n",
    "    bebida = bebida.upper()\n",
    "    if cod_categoria in bebida:\n",
    "        return True\n",
    "    else:\n",
    "        return False"
   ]
  },
  {
   "cell_type": "code",
   "execution_count": null,
   "metadata": {},
   "outputs": [],
   "source": [
    "#texto para upper\n",
    "cod_produto = 'beb12304'\n",
    "print(cod_produto.upper())\n",
    "\n",
    "# lista para sort e extend. \n",
    "\n",
    "# A função .sort() só tem parâmetro de palavra-chave\n",
    "vendas_ano = [100, 200, 50, 90, 240, 300, 55, 10, 789, 60]\n",
    "vendas_novdez = [500, 1555]\n",
    "\n",
    "vendas_ano.sort()\n",
    "print(vendas_ano)\n",
    "\n",
    "vendas_ano.sort(reverse=True)\n",
    "print(vendas_ano)\n",
    "\n",
    "# A função .extend() recebe um iterable (lista, set, tupla, etc): no caso do exemplo, recebe um parâmetro (lista) que é adicionada à outra lista\n",
    "vendas_ano.extend(vendas_novdez)\n",
    "print(vendas_ano)"
   ]
  }
 ],
 "metadata": {
  "kernelspec": {
   "display_name": "Python 3",
   "language": "python",
   "name": "python3"
  },
  "language_info": {
   "codemirror_mode": {
    "name": "ipython",
    "version": 3
   },
   "file_extension": ".py",
   "mimetype": "text/x-python",
   "name": "python",
   "nbconvert_exporter": "python",
   "pygments_lexer": "ipython3",
   "version": "3.8.3"
  }
 },
 "nbformat": 4,
 "nbformat_minor": 4
}
