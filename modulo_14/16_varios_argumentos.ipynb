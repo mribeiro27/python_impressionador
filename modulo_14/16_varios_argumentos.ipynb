{
 "cells": [
  {
   "cell_type": "markdown",
   "metadata": {},
   "source": [
    "# Quantidade Indefinidas de Argumentos\n",
    "\n",
    "### Utilidade:\n",
    "\n",
    "Quando você quer permitir uma quantidade indefinida de argumentos, usa o * para isso.\n",
    "\n",
    "### Estrutura:"
   ]
  },
  {
   "cell_type": "raw",
   "metadata": {
    "vscode": {
     "languageId": "raw"
    }
   },
   "source": [
    "*args para positional arguments -> argumentos vêm em formato de tupla\n",
    "\n",
    "def minha_funcao(*args):\n",
    "    ...\n",
    "\n",
    "\n",
    "**kwargs para keyword arguments -> argumentos vêm em formato de dicionário\n",
    "# Podemos passar quantos argumentos de palavra chave o quanto quisermos\n",
    "\n",
    "def minha_funcao(**kwargs):\n",
    "    ..."
   ]
  },
  {
   "cell_type": "code",
   "execution_count": null,
   "metadata": {},
   "outputs": [],
   "source": [
    "# Normalmente, botam *args para argumentos posicionais\n",
    "def minha_soma(*numeros):\n",
    "    # Mostra que é uma tupla, faz o processo contrário do unpacking, pois une todos os valores em uma tupla\n",
    "    print(numeros)\n",
    "    soma = 0\n",
    "    for numero in numeros:\n",
    "        soma += numero\n",
    "    return soma"
   ]
  },
  {
   "cell_type": "code",
   "execution_count": null,
   "metadata": {},
   "outputs": [],
   "source": [
    "# Permite botar vários argumentos\n",
    "print(minha_soma(10, 13, 1, 90, 0, 9, 8))"
   ]
  },
  {
   "cell_type": "code",
   "execution_count": null,
   "metadata": {},
   "outputs": [],
   "source": [
    "# **kwargs: argumentos de palavras-chave\n",
    "# Function para calcular o preço final de um produto\n",
    "# Passarmos um argumento que não existe no código não tem problema, ele será ignorado, como no caso de 'mudanca_cor'\n",
    "\n",
    "def preco_final(preco, **adicionais):\n",
    "    # Quando passamos **, podemos ter quantos argumentos quisermos, contanto que passemos uma palavra-chave e seu valor, ou seja, é um dicionário de adicionais. Se adicionamos um desconto, desconto está dentro do dicionário de adicionais\n",
    "    print(adicionais)\n",
    "    if 'desconto' in adicionais:\n",
    "        preco *= (1 - adicionais['desconto'])\n",
    "    if 'garantia_extra' in adicionais:\n",
    "        preco += adicionais['garantia_extra'] \n",
    "    if 'imposto' in adicionais:\n",
    "        preco *= (1 + adicionais['imposto'])\n",
    "    return preco"
   ]
  },
  {
   "cell_type": "code",
   "execution_count": null,
   "metadata": {},
   "outputs": [],
   "source": [
    "print(preco_final(1000, desconto = 0.1, garantia_extra = 100, imposto = 0.3))\n",
    "# Se adicionarmos um adicional que não está no código, ele será ignorado. No print acima, dá 1300, e aqui, mesmo adicionando 150, o resultado é o mesmo\n",
    "# print(preco_final(1000, desconto = 0.1, garantia_extra = 100, imposto = 0.3, mudanca_cor = 150))"
   ]
  }
 ],
 "metadata": {
  "kernelspec": {
   "display_name": "Python 3",
   "language": "python",
   "name": "python3"
  },
  "language_info": {
   "codemirror_mode": {
    "name": "ipython",
    "version": 3
   },
   "file_extension": ".py",
   "mimetype": "text/x-python",
   "name": "python",
   "nbconvert_exporter": "python",
   "pygments_lexer": "ipython3",
   "version": "3.8.3"
  }
 },
 "nbformat": 4,
 "nbformat_minor": 4
}
