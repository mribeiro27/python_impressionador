{
 "cells": [
  {
   "cell_type": "markdown",
   "metadata": {},
   "source": [
    "# Retornar um valor na Function Python\n",
    "\n",
    "### Estrutura Básica"
   ]
  },
  {
   "cell_type": "raw",
   "metadata": {
    "vscode": {
     "languageId": "raw"
    }
   },
   "source": [
    "def nome_funcao():\n",
    "    return valor_final\n",
    "\n",
    "# Retornar um valor de uma function: em uma function, temos 2 opções:\n",
    " executar as ações e fim \n",
    " ou \n",
    " executar as ações e retornar algo como resposta, ou seja, a function pode dar um valor que posso armazenar numa variável, ex: executar várias ações e retornar uma lista ou um dicionário como resposta"
   ]
  },
  {
   "cell_type": "markdown",
   "metadata": {},
   "source": [
    "- Exemplo: vamos criar uma função de cadastro de um Produto. Essa função deve garantir que o produto cadastrado está em letra minúscula."
   ]
  },
  {
   "cell_type": "code",
   "execution_count": null,
   "metadata": {},
   "outputs": [],
   "source": [
    "# A função abaixo faz: exibe uma caixa para cadastrar o produto e trata a info para ser cadastrado de forma correta\n",
    "\n",
    "def cadastrar_produto():\n",
    "    produto = input('Digite o nome do produto que deseja cadastrar: ')\n",
    "    produto = produto.casefold()\n",
    "    # Remove espaços no início ou final de uma string\n",
    "    produto = produto.strip()\n",
    "    # No código anterior, printamos a frase com o nome do produto imputado. Só que isso não é por si só o cadatro do produto, só foi para mostrar que, de fato, isso foi cadastrado. Logo, isso não deveria estar dentro da nossa função. \n",
    "    # O return executa o código e dá como resposta a variável produto. O return define a variável retornada\n",
    "    # Uma var, quando usada dentro de uma function, ela só existe dentro dela, exemplo abaixo\n",
    "    return produto\n",
    "    # Nada mais é executado depois do return\n",
    "\n",
    "# Uma var, quando usada dentro de uma function, ela só existe dentro dela, exemplo abaixo\n",
    "# cadastrar_produto()\n",
    "# A variável produto não está deifinida, é retornado um erro\n",
    "# print(produto)\n",
    "\n",
    "# Como a variável produto não existe fora de função, podemos usá-la\n",
    "produto = cadastrar_produto()\n",
    "# O valor da variável produto, recebido na função, é impresso aqui\n",
    "print(produto)"
   ]
  }
 ],
 "metadata": {
  "kernelspec": {
   "display_name": "Python 3",
   "language": "python",
   "name": "python3"
  },
  "language_info": {
   "codemirror_mode": {
    "name": "ipython",
    "version": 3
   },
   "file_extension": ".py",
   "mimetype": "text/x-python",
   "name": "python",
   "nbconvert_exporter": "python",
   "pygments_lexer": "ipython3",
   "version": "3.8.3"
  }
 },
 "nbformat": 4,
 "nbformat_minor": 4
}
