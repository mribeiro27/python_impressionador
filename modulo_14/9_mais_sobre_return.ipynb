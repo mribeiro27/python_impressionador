{
 "cells": [
  {
   "cell_type": "markdown",
   "metadata": {},
   "source": [
    "# Mais sobre o return\n",
    "\n",
    "### Pontos importantes:\n",
    "\n",
    "- Podemos usar no return praticamente qualquer tipo de objeto: (número, string, lista, tupla, dicionário, outros objetos, etc.)\n",
    "- O return, se for executado, encerra a função, mesmo que dentro dela haja um loop."
   ]
  },
  {
   "cell_type": "code",
   "execution_count": null,
   "metadata": {},
   "outputs": [],
   "source": [
    "#retornar um número\n",
    "def minha_soma(num1, num2, num3):\n",
    "    return num1 + num2 + num3\n",
    "\n",
    "#retornar um texto\n",
    "def padronizar_texto(texto):\n",
    "    texto = texto.casefold()\n",
    "    texto = texto.replace(\"  \", \" \")\n",
    "    texto = texto.strip()\n",
    "    return texto\n",
    "\n",
    "#retornar um boolean\n",
    "def bateu_meta(vendas, meta):\n",
    "    if vendas >= meta:\n",
    "        return True\n",
    "    else:\n",
    "        return False\n",
    "    \n",
    "#retornar uma lista, tupla ou dicionario\n",
    "def filtrar_lista_texto(lista, pedaco_texto):\n",
    "    lista_filtrada = []\n",
    "    for item in lista:\n",
    "        if pedaco_texto in item:\n",
    "            lista_filtrada.append(item)\n",
    "    # O return deve estar sempre fora do for. Senão, irá pegar apenas o primeiro item, fazer a verificação, e se ele seguir a condição, o loop irá terminar\n",
    "    return lista_filtrada"
   ]
  },
  {
   "cell_type": "code",
   "execution_count": null,
   "metadata": {},
   "outputs": [],
   "source": [
    "# Boolean\n",
    "vendas_jose = 500\n",
    "meta = 230\n",
    "\n",
    "if bateu_meta(vendas_jose, meta):\n",
    "    print(\"José bateu a meta.\")\n",
    "\n",
    "# Lista, tupla ou dicionário\n",
    "lista_email = [\"mari@exemplo.com\", \"mel@exemplinho.com\", \"allan@exemplo.com\"]\n",
    "\n",
    "print(filtrar_lista_texto(lista_email, \"exemplo\"))"
   ]
  }
 ],
 "metadata": {
  "kernelspec": {
   "display_name": "Python 3",
   "language": "python",
   "name": "python3"
  },
  "language_info": {
   "codemirror_mode": {
    "name": "ipython",
    "version": 3
   },
   "file_extension": ".py",
   "mimetype": "text/x-python",
   "name": "python",
   "nbconvert_exporter": "python",
   "pygments_lexer": "ipython3",
   "version": "3.8.3"
  }
 },
 "nbformat": 4,
 "nbformat_minor": 4
}
