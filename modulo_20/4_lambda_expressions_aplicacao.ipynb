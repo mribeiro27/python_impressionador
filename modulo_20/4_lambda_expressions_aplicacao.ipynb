{
 "cells": [
  {
   "cell_type": "markdown",
   "metadata": {},
   "source": [
    "# Principal Aplicação de Lambda Expressions\n",
    "\n",
    "### Usar lambda como argumento de alguma outra função, como map e filter\n",
    "##### A principal aplicação é para usar functions dentro de um método já existente"
   ]
  },
  {
   "cell_type": "code",
   "execution_count": null,
   "metadata": {},
   "outputs": [],
   "source": [
    "preco_tecnologia = {'notebook asus': 2450, 'iphone': 4500, 'samsung galaxy': 3000, 'tv samsung': 1000, 'ps5': 3000, 'tablet': 1000, 'notebook dell': 3000, 'ipad': 3000, 'tv philco': 800, 'notebook hp': 1700}"
   ]
  },
  {
   "cell_type": "markdown",
   "metadata": {},
   "source": [
    "### map()\n",
    "- Queremos saber o preço de cada produto adicionando o valor do imposto de 30% sobre o valor do produto"
   ]
  },
  {
   "cell_type": "code",
   "execution_count": null,
   "metadata": {},
   "outputs": [],
   "source": [
    "#Fazendo por function\n",
    "# Vamos usar o map para aplicar a função para cada item do dicionário. No dicionário, o item são as duas infos juntas, a chave e o valor. Para pegarmos só o valores, iremos usar o .values()\n",
    "\n",
    "def calcular_preco(preco):\n",
    "    return preco * 1.3\n",
    "\n",
    "# O map está aplicando a função calcular_preco para todos os valores do dicionário. Com o list(), iremos transformar tudo em lista\n",
    "preco_com_imposto = list(map(calcular_preco), preco_tecnologia.values())\n",
    "print(preco_com_imposto)"
   ]
  },
  {
   "cell_type": "code",
   "execution_count": null,
   "metadata": {},
   "outputs": [],
   "source": [
    "#fazendo por lambda\n",
    "\n",
    "# Lambda Expression: a LE ficará extamente no lugar que chamamos a função\n",
    "preco_com_imposto2 = list(map(lambda preco: preco * 1.3 , preco_tecnologia.values()))\n",
    "print(preco_com_imposto2)"
   ]
  },
  {
   "cell_type": "markdown",
   "metadata": {},
   "source": [
    "### filter()\n",
    "- Queremos apenas os produtos que custam acima de 2000"
   ]
  },
  {
   "cell_type": "raw",
   "metadata": {},
   "source": [
    "filter(função, iterable) -> retorna como resposta todos os itens do iterable onde a função é True"
   ]
  },
  {
   "cell_type": "code",
   "execution_count": null,
   "metadata": {},
   "outputs": [],
   "source": [
    "#fazendo por function\n",
    "# A função recebe a tupla como parâmetro, que será uma tupla de itens de um dicionário, com chave e valor. Logo, não é somente o valor\n",
    "# Se o caso da função for verdadeiro no item, ele entrará na lista produtos_acima_2000\n",
    "\n",
    "def acima_2000(item):\n",
    "    return item[1] > 2000\n",
    "\n",
    "produtos_acima_2000 = dict(list(filter(acima_2000, preco_tecnologia.items())))"
   ]
  },
  {
   "cell_type": "code",
   "execution_count": null,
   "metadata": {},
   "outputs": [],
   "source": [
    "#fazendo por lambda\n",
    "\n",
    "produtos_acima_2000_2 = dict(list(filter(lambda item: item[1] > 2000, preco_tecnologia.items())))\n",
    "print(produtos_acima_2000_2)"
   ]
  }
 ],
 "metadata": {
  "kernelspec": {
   "display_name": "Python 3",
   "language": "python",
   "name": "python3"
  },
  "language_info": {
   "codemirror_mode": {
    "name": "ipython",
    "version": 3
   },
   "file_extension": ".py",
   "mimetype": "text/x-python",
   "name": "python",
   "nbconvert_exporter": "python",
   "pygments_lexer": "ipython3",
   "version": "3.11.3"
  }
 },
 "nbformat": 4,
 "nbformat_minor": 4
}
