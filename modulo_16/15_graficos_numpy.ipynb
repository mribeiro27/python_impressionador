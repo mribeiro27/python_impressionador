{
 "cells": [
  {
   "cell_type": "markdown",
   "metadata": {},
   "source": [
    "# Mais edições de Gráfico com MatplotLib"
   ]
  },
  {
   "cell_type": "code",
   "execution_count": null,
   "metadata": {},
   "outputs": [],
   "source": [
    "#importando o matplotlib\n",
    "import matplotlib.pyplot as plt"
   ]
  },
  {
   "cell_type": "markdown",
   "metadata": {},
   "source": [
    "- Usando o módulo numpy para trabalhar com números"
   ]
  },
  {
   "cell_type": "code",
   "execution_count": null,
   "metadata": {},
   "outputs": [],
   "source": [
    "#importando o módulo numpy. Ele gera um range com muitos números, então o gráfico fica com muitas curvas\n",
    "import numpy as np"
   ]
  },
  {
   "cell_type": "markdown",
   "metadata": {},
   "source": [
    "### Outros tipos de Gráfico:"
   ]
  },
  {
   "cell_type": "markdown",
   "metadata": {},
   "source": [
    "- Linha"
   ]
  },
  {
   "cell_type": "code",
   "execution_count": null,
   "metadata": {},
   "outputs": [],
   "source": [
    "vendas = np.random.randint(1000, 3000, 50)\n",
    "meses = np.arange(1, 51)"
   ]
  },
  {
   "cell_type": "code",
   "execution_count": null,
   "metadata": {},
   "outputs": [],
   "source": [
    "# x, y\n",
    "plt.plot(meses, vendas)\n",
    "# Botar em escala, indo de 0 a 50 no eixo x, e no y, de ao maior valor de vendas, somado 200\n",
    "plt.axis([0, 50, 0, max(vendas)+200])\n",
    "plt.xlabel(\"Meses\")\n",
    "plt.ylabel(\"Vendas\")\n",
    "plt.show()"
   ]
  },
  {
   "cell_type": "markdown",
   "metadata": {},
   "source": [
    "- Editando o Gráfico de Linha"
   ]
  },
  {
   "cell_type": "code",
   "execution_count": null,
   "metadata": {},
   "outputs": [],
   "source": [
    "# x, y\n",
    "# O \"ro\" torna o gráfico em um de bolinhas vermelhas; o \"r--\" o deixa tracejado; o \"bs\" deixa quadrados azuis; \"g^\" deixa com triângulos verdes\n",
    "plt.plot(meses, vendas, \"-\")\n",
    "# Botar em escala, indo de 0 a 50 no eixo x, e no y, de ao maior valor de vendas, somado 200\n",
    "plt.axis([0, 50, 0, max(vendas)+200])\n",
    "plt.xlabel(\"Meses\")\n",
    "plt.ylabel(\"Vendas\")\n",
    "plt.show()"
   ]
  },
  {
   "cell_type": "code",
   "execution_count": null,
   "metadata": {},
   "outputs": [],
   "source": [
    "#editando o tamanho e a cor da linha - quais parâmetros posso editar?\n",
    "\n",
    "# x, y\n",
    "# O \"ro\" torna o gráfico em um de bolinhas vermelhas; o \"r--\" o deixa tracejado; o \"bs\" deixa quadrados azuis; \"g^\" deixa com triângulos verdes\n",
    "plt.plot(meses, vendas, color = \"red\")\n",
    "# Botar em escala, indo de 0 a 50 no eixo x, e no y, de ao maior valor de vendas, somado 200\n",
    "plt.axis([0, 50, 0, max(vendas) + 200])\n",
    "plt.xlabel(\"Meses\")\n",
    "plt.ylabel(\"Vendas\")\n",
    "plt.show()"
   ]
  },
  {
   "cell_type": "markdown",
   "metadata": {},
   "source": [
    "- Dispersão"
   ]
  },
  {
   "cell_type": "code",
   "execution_count": null,
   "metadata": {},
   "outputs": [],
   "source": [
    "plt.scatter(meses, vendas)\n",
    "plt.show()"
   ]
  },
  {
   "cell_type": "markdown",
   "metadata": {},
   "source": [
    "- Barras"
   ]
  },
  {
   "cell_type": "code",
   "execution_count": null,
   "metadata": {},
   "outputs": [],
   "source": [
    "plt.bar(meses, vendas)\n",
    "plt.show()"
   ]
  },
  {
   "cell_type": "markdown",
   "metadata": {},
   "source": [
    "- Trabalhando com Múltiplos Gráficos no mesmo \"Plot\" -> Para melhor visualização/comparação"
   ]
  },
  {
   "cell_type": "code",
   "execution_count": null,
   "metadata": {},
   "outputs": [],
   "source": [
    "# Mostrar os gráficos acima juntos\n",
    "# figure(): o espaço funciona como uma única figura, então iremos fazer um subplot, que pede a quantidade de linhas (1), quantas colunas (vamos botar 3, logo, 3), e o último como posição (1). Podemos escrever os números sem vírgula também, como 131. Agora, é necessário somente plotar os gráficos após os subplots\n",
    "\n",
    "plt.figure(1, figsize=(15, 3))\n",
    "plt.subplot(1, 3, 1)\n",
    "plt.plot(meses, vendas, color = \"red\")\n",
    "plt.subplot(1, 3, 2)\n",
    "plt.scatter(meses, vendas)\n",
    "plt.subplot(1, 3, 3)\n",
    "plt.bar(meses, vendas)\n",
    "plt.show()"
   ]
  }
 ],
 "metadata": {
  "kernelspec": {
   "display_name": "Python 3",
   "language": "python",
   "name": "python3"
  },
  "language_info": {
   "codemirror_mode": {
    "name": "ipython",
    "version": 3
   },
   "file_extension": ".py",
   "mimetype": "text/x-python",
   "name": "python",
   "nbconvert_exporter": "python",
   "pygments_lexer": "ipython3",
   "version": "3.8.3"
  }
 },
 "nbformat": 4,
 "nbformat_minor": 4
}
