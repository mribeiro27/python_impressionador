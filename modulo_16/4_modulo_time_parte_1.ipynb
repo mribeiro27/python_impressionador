{
 "cells": [
  {
   "cell_type": "markdown",
   "metadata": {},
   "source": [
    "# Módulo `time` em Python\n",
    "\n",
    "O módulo `time` em Python fornece uma variedade de funções para trabalhar com tempo. \n",
    "\n",
    "## time.time()\n",
    "\n",
    "A função `time()` retorna o tempo atual em segundos desde a Epoch (1º de janeiro de 1970).  "
   ]
  },
  {
   "cell_type": "code",
   "execution_count": 1,
   "metadata": {},
   "outputs": [
    {
     "name": "stdout",
     "output_type": "stream",
     "text": [
      "Tempo atual: 1687964797.3722384 segundos desde a Epoch\n"
     ]
    }
   ],
   "source": [
    "# A função time() trabalha com nanossegundos, sendo necessário botar somente  \"time_ns()\"\"\n",
    "\n",
    "import time\n",
    "\n",
    "tempo_atual_segundos = time.time()\n",
    "\n",
    "print(f\"Tempo atual: {tempo_atual_segundos} segundos desde a Epoch\")"
   ]
  },
  {
   "cell_type": "code",
   "execution_count": 2,
   "metadata": {},
   "outputs": [
    {
     "name": "stdout",
     "output_type": "stream",
     "text": [
      "Tempo atual: 1687964797387694000 nanosegundos desde a Epoch\n"
     ]
    }
   ],
   "source": [
    "tempo_atual_nanosegundos = time.time_ns()\n",
    "\n",
    "print(f\"Tempo atual: {tempo_atual_nanosegundos} nanosegundos desde a Epoch\") "
   ]
  },
  {
   "cell_type": "code",
   "execution_count": 3,
   "metadata": {},
   "outputs": [
    {
     "name": "stdout",
     "output_type": "stream",
     "text": [
      "Tempo decorrido: 2.4699909687042236 segundos\n"
     ]
    }
   ],
   "source": [
    "# Verificar quanto tempo o programa roda para fazer o loop de 100 milhões (benchmark - anaálise de performance)\n",
    "\n",
    "inicio = time.time()\n",
    "\n",
    "# Facilia a leitura, pois aqui está escrito 100 milhões. Podemos fazer isso com qualquer int em Python\n",
    "for i in range(100_000_000): # 10000000\n",
    "    pass\n",
    "\n",
    "fim = time.time()\n",
    "\n",
    "print(f\"Tempo decorrido: {fim - inicio} segundos\")"
   ]
  },
  {
   "cell_type": "markdown",
   "metadata": {
    "tags": []
   },
   "source": [
    "## time.sleep()\n",
    "\n",
    "A função `sleep()` faz o programa esperar pelo número de segundos especificado.\n",
    "\n"
   ]
  },
  {
   "cell_type": "code",
   "execution_count": null,
   "metadata": {},
   "outputs": [],
   "source": [
    "# Controla o fluxo do porgrama. É bom para usar ao raspar dados de bibliotecas de site, pois derá pausas nesta e evita banimentod e possível queda do servidor\n",
    "\n",
    "print(\"Iniciando a pausa\")\n",
    "time.sleep(5)  # Pausa o programa por 5 segundos\n",
    "print(\"Pausa terminada\")"
   ]
  },
  {
   "cell_type": "markdown",
   "metadata": {
    "tags": []
   },
   "source": [
    "## time.ctime()\n",
    "\n",
    "A função `ctime()` converte um tempo expresso em segundos desde a epoch em uma string representando o tempo local.\n",
    "\n"
   ]
  },
  {
   "cell_type": "code",
   "execution_count": 5,
   "metadata": {},
   "outputs": [
    {
     "name": "stdout",
     "output_type": "stream",
     "text": [
      "Tempo local: Wed Jun 28 12:06:44 2023\n"
     ]
    }
   ],
   "source": [
    "# Converte o tempo expresso em segundos. desde a EPOC, em uma str represetnando o tempo local\n",
    "# O formato da data se torta mais legível. Naturalmente, ele vem em inglês, mas é possível transformar em português\n",
    "\n",
    "tempo_em_segundos = time.time()\n",
    "\n",
    "tempo_em_segundos = time.time()\n",
    "tempo_local = time.ctime(tempo_em_segundos)\n",
    "print(f\"Tempo local: {tempo_local}\")"
   ]
  },
  {
   "cell_type": "markdown",
   "metadata": {
    "tags": []
   },
   "source": [
    "## time.time() vs time.localtime()\n",
    "\n",
    "A função `time()` retorna o tempo atual em segundos desde a epoch. A função `localtime()` converte um tempo expresso em segundos desde a epoch em um objeto `struct_time`. Este objeto contém informações sobre o tempo local, como ano, mês, dia, hora, minuto, segundo, etc. A função `localtime()` usa o fuso horário local.\n"
   ]
  },
  {
   "cell_type": "code",
   "execution_count": 6,
   "metadata": {},
   "outputs": [
    {
     "name": "stdout",
     "output_type": "stream",
     "text": [
      "Tempo local: time.struct_time(tm_year=2023, tm_mon=6, tm_mday=28, tm_hour=12, tm_min=6, tm_sec=44, tm_wday=2, tm_yday=179, tm_isdst=0)\n"
     ]
    }
   ],
   "source": [
    "tempo_em_segundos = time.time()\n",
    "tempo_local = time.localtime(tempo_em_segundos)\n",
    "\n",
    "# Todas as informações na tupla\n",
    "print(f\"Tempo local: {tempo_local}\")\n",
    "# Como nos exemplos abaixo, podemos selecionar as informações que queremos pegar, e elas não serão inseridas em tupla, e sim impressas indivisualmente\n",
    "print(f\"Tempo local: {tempo_local.tm_year}\")\n",
    "\n",
    "# Retorna um objeto struct_time, que é uma tupla com posições de significado"
   ]
  },
  {
   "cell_type": "code",
   "execution_count": 7,
   "metadata": {},
   "outputs": [
    {
     "name": "stdout",
     "output_type": "stream",
     "text": [
      "2023\n"
     ]
    }
   ],
   "source": [
    "print(tempo_local.tm_year)"
   ]
  },
  {
   "cell_type": "code",
   "execution_count": 8,
   "metadata": {},
   "outputs": [
    {
     "name": "stdout",
     "output_type": "stream",
     "text": [
      "12\n"
     ]
    }
   ],
   "source": [
    "print(tempo_local.tm_hour)"
   ]
  },
  {
   "cell_type": "code",
   "execution_count": 9,
   "metadata": {},
   "outputs": [
    {
     "name": "stdout",
     "output_type": "stream",
     "text": [
      "28\n"
     ]
    }
   ],
   "source": [
    "print(tempo_local.tm_mday)"
   ]
  },
  {
   "cell_type": "code",
   "execution_count": 10,
   "metadata": {},
   "outputs": [
    {
     "name": "stdout",
     "output_type": "stream",
     "text": [
      "2\n"
     ]
    }
   ],
   "source": [
    "# Dia da semana (0-6, 0 é segunda-feira, 6 é domingo). Documentação: https://docs.python.org/3/library/time.html#time.struct_time\n",
    "print(tempo_local.tm_wday)"
   ]
  },
  {
   "cell_type": "code",
   "execution_count": 11,
   "metadata": {},
   "outputs": [
    {
     "name": "stdout",
     "output_type": "stream",
     "text": [
      "179\n"
     ]
    }
   ],
   "source": [
    "# Dia do ano (1-366).\n",
    "print(tempo_local.tm_yday)"
   ]
  },
  {
   "cell_type": "code",
   "execution_count": 12,
   "metadata": {},
   "outputs": [
    {
     "name": "stdout",
     "output_type": "stream",
     "text": [
      "Hora oficial do Brasil\n"
     ]
    }
   ],
   "source": [
    "# Vai de acordo com o fuso que você está. Se eu estivesse no Acre ou nos EUA, por exemplo, iria aparecer uma outra mensagem. Vai de acordo com a configuração do SO \n",
    "print(tempo_local.tm_zone)"
   ]
  },
  {
   "cell_type": "code",
   "execution_count": 13,
   "metadata": {},
   "outputs": [
    {
     "name": "stdout",
     "output_type": "stream",
     "text": [
      "1687964805.0381687\n",
      "Wed Jun 28 12:06:45 2023\n",
      "time.struct_time(tm_year=2023, tm_mon=6, tm_mday=28, tm_hour=12, tm_min=6, tm_sec=45, tm_wday=2, tm_yday=179, tm_isdst=0)\n"
     ]
    }
   ],
   "source": [
    "# Função time: pega a quantidade de segundos que se passaram desde a epoc time\n",
    "print(time.time())\n",
    "# Se passar esse tempo em segundos e passar para a ctime(), vamos ter uma string dizendo as informações\n",
    "print(time.ctime(time.time()))\n",
    "# O objeto struct_time se comporta como uma tupla dá todas as informações, e temos mais poder sobre elas\n",
    "print(time.localtime())"
   ]
  }
 ],
 "metadata": {
  "kernelspec": {
   "display_name": "Python 3 (ipykernel)",
   "language": "python",
   "name": "python3"
  },
  "language_info": {
   "codemirror_mode": {
    "name": "ipython",
    "version": 3
   },
   "file_extension": ".py",
   "mimetype": "text/x-python",
   "name": "python",
   "nbconvert_exporter": "python",
   "pygments_lexer": "ipython3",
   "version": "3.11.3"
  },
  "toc-showtags": false
 },
 "nbformat": 4,
 "nbformat_minor": 4
}
