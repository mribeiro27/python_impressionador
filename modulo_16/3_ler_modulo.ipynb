{
 "cells": [
  {
   "cell_type": "markdown",
   "metadata": {},
   "source": [
    "# Começando a ler um módulo\n",
    "\n",
    "### Vamos testar com o módulo WebBrowser:\n",
    "\n",
    "- Passo 1: Descobrir qual módulo precisamos usar e qual método do Módulo faz o que a gente quer.\n",
    "\n",
    "- Passo 2: Se precisarmos de mais alguma coisa do módulo, buscamos por soluções já escolhendo o módulo"
   ]
  },
  {
   "cell_type": "code",
   "execution_count": 15,
   "metadata": {},
   "outputs": [
    {
     "data": {
      "text/plain": [
       "True"
      ]
     },
     "execution_count": 15,
     "metadata": {},
     "output_type": "execute_result"
    }
   ],
   "source": [
    "import webbrowser\n",
    "\n",
    "# Podemos abrir várias páginas ao mesmo tempo, como a home da Hashtag e o blog\n",
    "# O módulo webbrowser não é muito bom para integarir com a páginas abertas, sendo bom apenas para exibição\n",
    "\n",
    "# Se possível, irá tentar abrir o site em uma nova janela\n",
    "webbrowser.open_new('https://hashtagtreinamentos.com')\n",
    "#webbrowser.open('https://www.hashtagtreinamentos.com/blog/')\n",
    "\n",
    "# Os módulos do Selenium são muito bons para interações com sites, como clicar em botões, preencher forms"
   ]
  }
 ],
 "metadata": {
  "kernelspec": {
   "display_name": "Python 3",
   "language": "python",
   "name": "python3"
  },
  "language_info": {
   "codemirror_mode": {
    "name": "ipython",
    "version": 3
   },
   "file_extension": ".py",
   "mimetype": "text/x-python",
   "name": "python",
   "nbconvert_exporter": "python",
   "pygments_lexer": "ipython3",
   "version": "3.8.3"
  }
 },
 "nbformat": 4,
 "nbformat_minor": 4
}
