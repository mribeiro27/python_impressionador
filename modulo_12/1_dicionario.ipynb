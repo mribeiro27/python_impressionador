{
 "cells": [
  {
   "cell_type": "markdown",
   "metadata": {},
   "source": [
    "# Dicionários em Python\n",
    "\n",
    "### Estrutura:\n",
    "\n",
    "dicionario = {chave: valor, chave: valor, chave: valor, chave: valor ...}\n",
    "\n",
    "- Estrutura de dados que armazena informações, assim como listas e tuplas\n",
    "- Diferença entre listas e tuplas: ao invés de pegarmos dados por um índice, pegaremos eles por CHAVES.\n",
    "\n",
    "### Vantagens e Desvantagens\n",
    "\n",
    "- Não devem ser usados para pegar itens em uma determinada ordem\n",
    "- Podem ter valores heterogêneos (vários tipos de valores dentro de um mesmo dicionário: inteiros, strings, listas, etc)\n",
    "- Chaves são únicas obrigatoriamente\n",
    "- Através da chaves que acessamos informações\n",
    "- Mais intuitivos de trabalhar"
   ]
  },
  {
   "cell_type": "code",
   "execution_count": null,
   "metadata": {},
   "outputs": [],
   "source": [
    "mais_vendidos = {'tecnologia': 'iphone', 'refrigeracao': 'ar consul 12000 btu', 'livros': 'o alquimista', 'eletrodoméstico': 'geladeira', 'lazer': 'prancha surf'}\n",
    "\n",
    "vendas_tecnologia = {'iphone': 15000, 'samsung galaxy': 12000, 'tv samsung': 10000, 'ps5': 14300, 'tablet': 1720, 'ipad': 1000, 'tv philco': 2500, 'notebook hp': 1000, 'notebook dell': 17000, 'notebook asus': 2450}"
   ]
  },
  {
   "cell_type": "code",
   "execution_count": null,
   "metadata": {},
   "outputs": [],
   "source": [
    "# Exemplo: queremos saber o número de vendas de iPhone\n",
    "\n",
    "qtde_iphone = vendas_tecnologia['iphone']\n",
    "print(qtde_iphone)"
   ]
  },
  {
   "cell_type": "markdown",
   "metadata": {},
   "source": [
    "- Qual foi o item mais vendido nas categorias 'livros' e 'lazer'?\n",
    "- Quanto foi vendido de 'notebook asus' e de 'ipad'?"
   ]
  },
  {
   "cell_type": "code",
   "execution_count": null,
   "metadata": {},
   "outputs": [],
   "source": [
    "# Como queremos os itens mais vendidos das categorias 'livros' e 'lazer', pegaremos pelas chaves ou seja, essas categorias\n",
    "# Livro e Lazer mais vendidos\n",
    "\n",
    "livro = mais_vendidos['livros']\n",
    "lazer = mais_vendidos['lazer']\n",
    "\n",
    "print(f\"O livro mais vendido foi {livro}, e o artigo de lazer, {lazer}.\")\n",
    "\n",
    "# Quanto foi vendido de notebook Asus e iPad\n",
    "\n",
    "notebook_asus = vendas_tecnologia['notebook asus']\n",
    "ipad = vendas_tecnologia['ipad']\n",
    "\n",
    "print(f\"Foram vendidos {notebook_asus} notebooks Asus e {ipad} iPads.\")"
   ]
  }
 ],
 "metadata": {
  "kernelspec": {
   "display_name": "Python 3",
   "language": "python",
   "name": "python3"
  },
  "language_info": {
   "codemirror_mode": {
    "name": "ipython",
    "version": 3
   },
   "file_extension": ".py",
   "mimetype": "text/x-python",
   "name": "python",
   "nbconvert_exporter": "python",
   "pygments_lexer": "ipython3",
   "version": "3.8.3"
  }
 },
 "nbformat": 4,
 "nbformat_minor": 4
}
