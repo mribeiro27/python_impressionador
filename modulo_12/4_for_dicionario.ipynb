{
 "cells": [
  {
   "cell_type": "markdown",
   "metadata": {},
   "source": [
    "# For nos Dicionarios\n",
    "\n",
    "- Conseguimos percorrer todos os itens de um dicionário com o for\n",
    "- No caso dos dicionários, ao invés de listas e tuplas, que o for percorria cada item, ele irá percorrer por cada chave\n",
    "\n",
    "### Estrutura:"
   ]
  },
  {
   "cell_type": "raw",
   "metadata": {},
   "source": [
    "for chave in dicionario:\n",
    "    faça alguma coisa"
   ]
  },
  {
   "cell_type": "code",
   "execution_count": null,
   "metadata": {},
   "outputs": [],
   "source": [
    "vendas_tecnologia = {'iphone': 15000, 'samsung galaxy': 12000, 'tv samsung': 10000, 'ps5': 14300, 'tablet': 1720, 'ipad': 1000, 'tv philco': 2500, 'notebook hp': 1000, 'notebook dell': 17000, 'notebook asus': 2450}\n",
    "\n",
    "#demonstrando o for\n",
    "\n",
    "for chave in vendas_tecnologia:\n",
    "    # print(chave)\n",
    "    # Para conseguirmos saber o valor de uma chave, devemos digitar dicionario[chave]\n",
    "    print(\"{}: {} unidades\".format(chave, vendas_tecnologia[chave]))"
   ]
  },
  {
   "cell_type": "markdown",
   "metadata": {},
   "source": [
    "- Qual o total de notebooks vendidos?"
   ]
  },
  {
   "cell_type": "code",
   "execution_count": null,
   "metadata": {},
   "outputs": [],
   "source": [
    "# Variável auxiliar, pois as unidades serão somadas com as anteriores\n",
    "total_notebooks = 0\n",
    "\n",
    "for chave in vendas_tecnologia:\n",
    "    if \"notebook\" in chave:\n",
    "        # Na variável serão somados o valor da própria variável (que serão os outros valores já somados) com o valor da chave\n",
    "        # total_notebooks = total_notebooks + vendas_tecnologia[chave]\n",
    "        total_notebooks += vendas_tecnologia[chave]\n",
    "\n",
    "print(f\"O total de notebooks vendidos foi de {total_notebooks} unidades.\")"
   ]
  }
 ],
 "metadata": {
  "kernelspec": {
   "display_name": "Python 3",
   "language": "python",
   "name": "python3"
  },
  "language_info": {
   "codemirror_mode": {
    "name": "ipython",
    "version": 3
   },
   "file_extension": ".py",
   "mimetype": "text/x-python",
   "name": "python",
   "nbconvert_exporter": "python",
   "pygments_lexer": "ipython3",
   "version": "3.8.3"
  }
 },
 "nbformat": 4,
 "nbformat_minor": 4
}
