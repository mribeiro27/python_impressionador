{
 "cells": [
  {
   "cell_type": "markdown",
   "metadata": {},
   "source": [
    "# Adicionar, Remover e Modificar Itens no Dicionário\n",
    "\n",
    "### Estrutura:\n",
    "\n",
    "- Adicionar itens:"
   ]
  },
  {
   "cell_type": "raw",
   "metadata": {
    "vscode": {
     "languageId": "raw"
    }
   },
   "source": [
    "- Dicionário vazio\n",
    "\n",
    "dicionario = {}\n",
    "\n",
    "- Adicionar um item ao dicionário: uma chave irá receber determinado valor\n",
    "\n",
    "dicionario[chave] = valor\n",
    "\n",
    "outra opção para adicionar chaves e valores:\n",
    "\n",
    "PS: o método .uptade() é melhor adicionar múltiplos itens, como para unir informações de dois dicionários\n",
    "\n",
    "dicionario.update({chave: valor, chave: valor})"
   ]
  },
  {
   "cell_type": "code",
   "execution_count": null,
   "metadata": {},
   "outputs": [],
   "source": [
    "lucro_1tri = {'janeiro': 100000, 'fevereiro': 120000, 'março': 90000}\n",
    "lucro_2tri = {'abril': 88000, 'maio': 89000, 'junho': 120000}\n",
    "\n",
    "#adicionando 1 item\n",
    "\n",
    "lucro_1tri[\"abril\"] = 880000\n",
    "print(lucro_1tri)\n",
    "\n",
    "#adicionando vários itens ou um dicionário a outro\n",
    "\n",
    "lucro_1tri.update(lucro_2tri)\n",
    "# lucro_1tri.update({'abril': 88000, 'maio': 89000, 'junho': 120000})\n",
    "print(lucro_1tri)\n",
    "\n",
    "#adicionando um item já existente (manualmente ou pelo update)\n",
    "\n",
    "# Para modificar o valor de uma chave, iremos usar a mesma estrutura de adicionar, mas com a chave existente e seu novo valor. É impossível haver 2 chaves iguais. Se tentarmos botar uma mesma chave, com outro valor, a chave que foi posta por último é a que é printada\n",
    "\n",
    "lucro_1tri[\"janeiro\"] = 88000"
   ]
  },
  {
   "cell_type": "markdown",
   "metadata": {},
   "source": [
    "- Modificar itens:\n",
    "\n",
    "Da mesma forma que adicionamos 1 valor, caso essa chave já exista o item é apenas modificado.\n",
    "\n",
    "dicionario[chave] = valor\n",
    "\n",
    "Vamos modificar o lucro de fevereiro:<br>\n",
    "(Lembrando: caso o item não exista, ele vai criar o item no dicionário)"
   ]
  },
  {
   "cell_type": "code",
   "execution_count": null,
   "metadata": {},
   "outputs": [],
   "source": [
    "lucro_fev = 85000\n",
    "\n",
    "lucro_1tri[\"fevereiro\"] = lucro_fev\n",
    "print(lucro_1tri)"
   ]
  },
  {
   "cell_type": "markdown",
   "metadata": {},
   "source": [
    "- Remover itens:\n",
    "\n",
    "del dicionario[chave]\n",
    "\n",
    "ou então\n",
    "\n",
    "valor = dicionario.pop(chave)\n",
    "\n",
    "mas cuidado com:\n",
    "\n",
    "del dicionario<br>    ->    que é diferente de dicionario.clear()"
   ]
  },
  {
   "cell_type": "code",
   "execution_count": null,
   "metadata": {},
   "outputs": [],
   "source": [
    "# Remover itens\n",
    "\n",
    "# Remover o mês de junho com del:\n",
    "    # Se botássemos como abaixo, o dicionário é deletado\n",
    "    # del lucro_1tri \n",
    "'''del lucro_1tri[\"junho\"]\n",
    "print(lucro_1tri)'''\n",
    "\n",
    "#.pop() não só tira um item la lista, mas o armazena num variável, caso queira usá-la depois\n",
    "lucro_junho = lucro_1tri.pop(\"junho\")\n",
    "\n",
    "print(lucro_1tri)\n",
    "# O valor da chave \"junho\" fica armazenado aqui\n",
    "print(lucro_junho)\n",
    "\n",
    "# Se quiséssmos apagar o conteúdo todo o do dicionário, ao invés de del, deve-se usar o .clear()\n",
    "lucro_1tri.clear()\n",
    "print(lucro_1tri)\n",
    "\n",
    "#obs: o del também funciona para listas, caso queira usar -> ao invés de usar a chave, deveremos usar o índice do item que deve ser removido\n",
    "#del lista[i]\n",
    "\n",
    "funcionarios = ['João', 'Lira', 'Maria', 'Ana', 'Paula']\n",
    "\n",
    "del funcionarios[0]\n",
    "print(funcionarios)\n",
    "\n",
    "#obs: o del também funciona para listas, caso queira usar\n",
    "#del lista[i]\n",
    "funcionarios = ['João', 'Lira', 'Maria', 'Ana', 'Paula']"
   ]
  }
 ],
 "metadata": {
  "kernelspec": {
   "display_name": "Python 3",
   "language": "python",
   "name": "python3"
  },
  "language_info": {
   "codemirror_mode": {
    "name": "ipython",
    "version": 3
   },
   "file_extension": ".py",
   "mimetype": "text/x-python",
   "name": "python",
   "nbconvert_exporter": "python",
   "pygments_lexer": "ipython3",
   "version": "3.8.3"
  }
 },
 "nbformat": 4,
 "nbformat_minor": 4
}
